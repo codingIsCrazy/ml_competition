{
 "cells": [
  {
   "cell_type": "code",
   "execution_count": 1,
   "metadata": {},
   "outputs": [
    {
     "name": "stderr",
     "output_type": "stream",
     "text": [
      "/Users/sgcx198/anaconda3/lib/python3.7/importlib/_bootstrap.py:219: RuntimeWarning: numpy.ufunc size changed, may indicate binary incompatibility. Expected 216, got 192\n",
      "  return f(*args, **kwds)\n",
      "/Users/sgcx198/anaconda3/lib/python3.7/importlib/_bootstrap.py:219: RuntimeWarning: numpy.ufunc size changed, may indicate binary incompatibility. Expected 216, got 192\n",
      "  return f(*args, **kwds)\n",
      "/Users/sgcx198/anaconda3/lib/python3.7/importlib/_bootstrap.py:219: RuntimeWarning: numpy.ufunc size changed, may indicate binary incompatibility. Expected 192 from C header, got 216 from PyObject\n",
      "  return f(*args, **kwds)\n"
     ]
    }
   ],
   "source": [
    "import numpy as np\n",
    "import pandas as pd\n",
    "import matplotlib.pyplot as plt\n",
    "\n",
    "pd.set_option('display.max_columns',None)\n",
    "from sklearn.linear_model import LinearRegression,LogisticRegression\n",
    "import seaborn as sns\n"
   ]
  },
  {
   "cell_type": "code",
   "execution_count": null,
   "metadata": {},
   "outputs": [],
   "source": [
    "path = '../data/'\n",
    "data = pd.read_csv(path+'creditcard.csv')\n",
    "data.head()"
   ]
  },
  {
   "cell_type": "code",
   "execution_count": null,
   "metadata": {},
   "outputs": [],
   "source": [
    "data.info()"
   ]
  },
  {
   "cell_type": "code",
   "execution_count": null,
   "metadata": {},
   "outputs": [],
   "source": [
    "# 数据确实情况\n",
    "data.isnull().sum()"
   ]
  },
  {
   "cell_type": "code",
   "execution_count": null,
   "metadata": {},
   "outputs": [],
   "source": [
    "# 数据相关性\n",
    "corr = data.corr()\n",
    "plt.figure(figsize=(50.40))\n",
    "sns.heatmap(corr,annot=True,vmax=1,xticklabels=True,yticklabel=True,square=True,cmap=\"YlGnBu\")\n",
    "plt.title('ss')\n",
    "plt.show()"
   ]
  },
  {
   "cell_type": "code",
   "execution_count": null,
   "metadata": {},
   "outputs": [],
   "source": [
    "# 查看类别\n",
    "data.['Class'].value_counts()"
   ]
  },
  {
   "cell_type": "code",
   "execution_count": null,
   "metadata": {},
   "outputs": [],
   "source": [
    "from sklearn.preprocessing import StandardScaler\n",
    "data['Amount'] = StandardScaler().fit_transform(np.array(data['Amount']).reshape(-1,1))"
   ]
  },
  {
   "cell_type": "code",
   "execution_count": null,
   "metadata": {},
   "outputs": [],
   "source": [
    "# 类别不平衡\n",
    "# 下采样\n",
    "undersample_seed = 1\n",
    "num_Card_Fraud = data[data['Class'] == 1].shape[0]\n",
    "num_Card_Fraud"
   ]
  },
  {
   "cell_type": "code",
   "execution_count": null,
   "metadata": {},
   "outputs": [],
   "source": [
    "Normal_users = data[data['Class'] == 0].index.values\n",
    "Normal_users_selection = np.random.RandomState(undersample_seed).choice(\n",
    "    Normal_users,size=num_Card_Fraud,replace=False\n",
    ")\n",
    "len(Normal_users_selection)"
   ]
  },
  {
   "cell_type": "code",
   "execution_count": null,
   "metadata": {},
   "outputs": [],
   "source": [
    "Card_Fraud = data[data['Class'] == 1].index.values\n",
    "selected_users = list(set(Normal_users_selection).union(set(Card_Fraud)))"
   ]
  },
  {
   "cell_type": "code",
   "execution_count": null,
   "metadata": {},
   "outputs": [],
   "source": [
    "new_train = data.loc[selected_users].copy()\n",
    "new_train[\"Class\"].value_counts()"
   ]
  },
  {
   "cell_type": "code",
   "execution_count": null,
   "metadata": {},
   "outputs": [],
   "source": [
    "from sklearn.preprocessing import StandardScaler\n",
    "new_train['Amount'] = StandardScaler().fit_transform(np.array(new_train['Amount']).reshape(-1,1))\n",
    "feats = [i for i in new_train.columns if i not in ['Time','Class']]\n",
    "train = new_train[feats]\n",
    "label = new_train['Class']"
   ]
  },
  {
   "cell_type": "code",
   "execution_count": null,
   "metadata": {},
   "outputs": [],
   "source": [
    "label.value_counts()"
   ]
  },
  {
   "cell_type": "code",
   "execution_count": null,
   "metadata": {},
   "outputs": [],
   "source": [
    "from sklearn.linear_model import LinearRegression,LogisticRegression\n",
    "from sklearn.model_selection import GridSearchCV\n",
    "lg = LogisticRegression()\n",
    "clf = GridSearchCV(lg,param_grid=[{'C':np.arange(0.001,0.05,0.01)}],cv=5)\n",
    "clf.fit(train,label)\n",
    "best_model = clf.best_estimator_\n",
    "clf.best_params_\n"
   ]
  },
  {
   "cell_type": "code",
   "execution_count": null,
   "metadata": {},
   "outputs": [],
   "source": [
    "from sklearn.model_selection import train_test_split\n",
    "train_x,test_x,train_y,test_y = train_test_split(data[feats],data['Class'],test_size=0.3,random_state=42)\n",
    "print(\"or_train: \",len(train_x))\n",
    "print(\"or_test: \",len(test_x))\n",
    "print(\"or_data: \",len(data))\n",
    "# 切分下采样训练集和下采样测试集\n",
    "train_x_us, test_x_us, train_y_us, test_y_us = train_test_split(new_train[feats],new_train[\"Class\"],test_size = 0.3,random_state = 42)\n",
    "print('-----------------------------------------------------------')\n",
    "print(\"undersample_len_of_train: \", len(train_x_us))\n",
    "print(\"undersample_len_of_test: \", len(test_x_us))\n",
    "print(\"undersample_len_of_train: \", len(new_train))"
   ]
  },
  {
   "cell_type": "code",
   "execution_count": null,
   "metadata": {},
   "outputs": [],
   "source": [
    "from sklearn.model_selection import KFold,cross_val_score\n",
    "from sklearn.metrics import confusion_matrix,recall_score,classification_report\n"
   ]
  },
  {
   "cell_type": "code",
   "execution_count": null,
   "metadata": {},
   "outputs": [],
   "source": [
    "import matplotlib.pyplot as plt\n",
    "\n",
    "def plt_confusion(cm,classes,titile='Confusion matrix',cmap=plt.cm.Blues):\n",
    "    plt.imshow(cm,interpolation='nearest',cmap=cmap)\n",
    "    plt.title(titile)\n",
    "    plt.colorbar()\n",
    "    set_of_class = np.arange(len(classes))\n",
    "    plt.xticks(set_of_class,classes,rotation=0)\n",
    "    "
   ]
  }
 ],
 "metadata": {
  "kernelspec": {
   "display_name": "Python 3",
   "language": "python",
   "name": "python3"
  },
  "language_info": {
   "codemirror_mode": {
    "name": "ipython",
    "version": 3
   },
   "file_extension": ".py",
   "mimetype": "text/x-python",
   "name": "python",
   "nbconvert_exporter": "python",
   "pygments_lexer": "ipython3",
   "version": "3.7.2"
  }
 },
 "nbformat": 4,
 "nbformat_minor": 2
}
